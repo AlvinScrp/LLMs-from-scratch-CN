{
  "cells": [
    {
      "cell_type": "markdown",
      "metadata": {
        "id": "view-in-github",
        "colab_type": "text"
      },
      "source": [
        "<a href=\"https://colab.research.google.com/github/AlvinScrp/LLMs-from-scratch-CN/blob/main/mini-gpt2.ipynb\" target=\"_parent\"><img src=\"https://colab.research.google.com/assets/colab-badge.svg\" alt=\"Open In Colab\"/></a>"
      ]
    },
    {
      "cell_type": "markdown",
      "id": "6f678e62-7bcb-4405-86ae-dce94f494303",
      "metadata": {
        "id": "6f678e62-7bcb-4405-86ae-dce94f494303"
      },
      "source": [
        "# 一个简单的GPT2"
      ]
    },
    {
      "cell_type": "code",
      "execution_count": 53,
      "id": "ac9b5847-0515-45cd-87b0-46541f6a1f79",
      "metadata": {
        "id": "ac9b5847-0515-45cd-87b0-46541f6a1f79",
        "outputId": "91030fc0-9914-4cdc-d859-54d7138c1dd4",
        "colab": {
          "base_uri": "https://localhost:8080/"
        }
      },
      "outputs": [
        {
          "output_type": "stream",
          "name": "stdout",
          "text": [
            "torch version: 2.8.0+cu126\n",
            "tiktoken version: 0.12.0\n"
          ]
        }
      ],
      "source": [
        "# NBVAL_IGNORE_OUTPUT\n",
        "from importlib.metadata import version\n",
        "\n",
        "print(\"torch version:\", version(\"torch\"))\n",
        "print(\"tiktoken version:\", version(\"tiktoken\"))\n",
        "import tiktoken\n",
        "import torch\n",
        "import torch.nn as nn\n",
        "from torch.utils.data import Dataset, DataLoader"
      ]
    },
    {
      "cell_type": "markdown",
      "id": "3f60dc93-281d-447e-941f-aede0c7ff7fc",
      "metadata": {
        "id": "3f60dc93-281d-447e-941f-aede0c7ff7fc"
      },
      "source": [
        "## 数据加载\n",
        "* 文本：the-verdict.txt\n",
        "* gpt2 tokenizer\n",
        "* Dataloader\n",
        "* token_embedding position_embedding\n"
      ]
    },
    {
      "cell_type": "code",
      "execution_count": 54,
      "id": "0ed4b7db-3b47-4fd3-a4a6-5f4ed5dd166e",
      "metadata": {
        "id": "0ed4b7db-3b47-4fd3-a4a6-5f4ed5dd166e"
      },
      "outputs": [],
      "source": [
        "import os##导入os库\n",
        "import urllib.request ##导入request库\n",
        "\n",
        "if not os.path.exists(\"the-verdict.txt\"):##如果文件不存在则创建，防止因文件已存在而报错\n",
        "    url = (\"https://raw.githubusercontent.com/rasbt/\"\n",
        "           \"LLMs-from-scratch/main/ch02/01_main-chapter-code/\"\n",
        "           \"the-verdict.txt\")\n",
        "    print(url)\n",
        "    file_path = \"the-verdict.txt\"\n",
        "    urllib.request.urlretrieve(url, file_path)##从指定的地点读取文件\n",
        "with open(\"the-verdict.txt\", \"r\", encoding=\"utf-8\") as f:\n",
        "    raw_text = f.read()  # 读取文本文件\n",
        "#raw_text 后续使用\n",
        "\n",
        "class GPTDatasetV1(Dataset):\n",
        "    def __init__(self, txt, tokenizer, max_length, stride):\n",
        "        self.input_ids = []  # 输入ID列表\n",
        "        self.target_ids = []  # 目标ID列表\n",
        "\n",
        "        # 对整个文本进行分词\n",
        "        token_ids = tokenizer.encode(txt, allowed_special={'<|endoftext|>'})\n",
        "\n",
        "        # 使用滑动窗口将文本分割成重叠的最大长度序列\n",
        "        for i in range(0, len(token_ids) - max_length, stride):\n",
        "            input_chunk = token_ids[i:i + max_length]  # 输入片段\n",
        "            target_chunk = token_ids[i + 1: i + max_length + 1]  # 目标片段（右移一个位置）\n",
        "            self.input_ids.append(torch.tensor(input_chunk))  # 将输入片段转换为张量\n",
        "            self.target_ids.append(torch.tensor(target_chunk))  # 将目标片段转换为张量\n",
        "\n",
        "    def __len__(self):\n",
        "        return len(self.input_ids)  # 返回数据集的大小\n",
        "\n",
        "    def __getitem__(self, idx):\n",
        "        return self.input_ids[idx], self.target_ids[idx]  # 获取特定索引的输入和目标\n",
        "\n",
        "def create_dataloader(txt, batch_size=4, max_length=256, stride=128, shuffle=True):\n",
        "    # 初始化分词器\n",
        "    tokenizer = tiktoken.get_encoding(\"gpt2\")\n",
        "    # 创建数据集\n",
        "    dataset = GPTDatasetV1(txt, tokenizer, max_length, stride)\n",
        "    # 创建数据加载器\n",
        "    dataloader = DataLoader(dataset, batch_size=batch_size, shuffle=shuffle)\n",
        "\n",
        "    return dataloader  # 返回数据加载器\n",
        "\n",
        "vocab_size = 50257  # 词汇表大小\n",
        "output_dim = 256  # 输出维度\n",
        "max_len = 1024  # 最大序列长度\n",
        "context_length = max_len  # 上下文长度\n",
        "\n",
        "\n",
        "token_embedding_layer = nn.Embedding(vocab_size, output_dim)  # 创建词嵌入层\n",
        "pos_embedding_layer =  nn.Embedding(context_length, output_dim)  # 创建位置嵌入层\n",
        "\n",
        "max_length = 4  # 每个输入片段的最大长度\n",
        "dataloader = create_dataloader(raw_text, batch_size=8, max_length=max_length, stride=max_length)  # 创建数据加载器"
      ]
    },
    {
      "cell_type": "markdown",
      "source": [
        "测试代码"
      ],
      "metadata": {
        "id": "7YUCnT0PVgQt"
      },
      "id": "7YUCnT0PVgQt"
    },
    {
      "cell_type": "code",
      "source": [
        "tokenizer = tiktoken.get_encoding(\"gpt2\")  # 初始化分词器\n",
        "encoded_text = tokenizer.encode(raw_text)  # 对文本进行编码\n",
        "print(raw_text[:50])\n",
        "print(encoded_text[:8])\n",
        "print(tokenizer.decode(encoded_text[:8]))\n",
        "print('-'*20)\n",
        "for batch in dataloader:\n",
        "    x, y = batch\n",
        "\n",
        "    token_embeddings = token_embedding_layer(x)\n",
        "    pos_embeddings = pos_embedding_layer(torch.arange(max_length))\n",
        "\n",
        "    input_embeddings = token_embeddings + pos_embeddings\n",
        "\n",
        "    break\n",
        "print(input_embeddings.shape)"
      ],
      "metadata": {
        "id": "5OZSFw4zUmXR",
        "outputId": "de53864e-4c47-462c-d3f0-3ddc74ce5093",
        "colab": {
          "base_uri": "https://localhost:8080/"
        }
      },
      "id": "5OZSFw4zUmXR",
      "execution_count": 55,
      "outputs": [
        {
          "output_type": "stream",
          "name": "stdout",
          "text": [
            "I HAD always thought Jack Gisburn rather a cheap g\n",
            "[40, 367, 2885, 1464, 1807, 3619, 402, 271]\n",
            "I HAD always thought Jack Gis\n",
            "--------------------\n",
            "torch.Size([8, 4, 256])\n"
          ]
        }
      ]
    },
    {
      "cell_type": "markdown",
      "id": "bd298bf4-e320-40c1-9084-6526d07e6d5d",
      "metadata": {
        "id": "bd298bf4-e320-40c1-9084-6526d07e6d5d"
      },
      "source": [
        "## 注意力机制"
      ]
    },
    {
      "cell_type": "markdown",
      "source": [
        "- 以下是之前实现的自注意力机制总结（为简化起见，未展示因果和dropout掩码）：\n",
        "\n",
        "- 这种机制也称为单头注意力：\n",
        "\n",
        "<img src=\"https://sebastianraschka.com/images/LLMs-from-scratch-images/ch03_compressed/24.webp\" width=\"400px\">\n",
        "\n",
        "- 我们通过堆叠多个单头注意力模块来构建多头注意力模块：\n",
        "\n",
        "<img src=\"https://sebastianraschka.com/images/LLMs-from-scratch-images/ch03_compressed/25.webp\" width=\"400px\">\n",
        "\n",
        "- 多头注意力的核心思想是使用不同的学习到的线性投影，并行地多次运行注意力机制。这使得模型能够在不同位置同时关注来自不同表示子空间的信息。\n",
        "<img src=\"https://sebastianraschka.com/images/LLMs-from-scratch-images/ch03_compressed/26.webp\" width=\"400px\">"
      ],
      "metadata": {
        "id": "smAFQJDOGsH3"
      },
      "id": "smAFQJDOGsH3"
    },
    {
      "cell_type": "markdown",
      "source": [
        "### 带掩码的单头自注意力\n",
        "仅示例，后续不会用到"
      ],
      "metadata": {
        "id": "DJaSEfhbWED0"
      },
      "id": "DJaSEfhbWED0"
    },
    {
      "cell_type": "code",
      "source": [
        "class CausalSelfAttention(nn.Module):\n",
        "    \"\"\"\n",
        "    该类实现了因果自注意力机制（Causal Self Attention），\n",
        "    用于自回归模型（例如GPT模型中的注意力层）。\n",
        "    \"\"\"\n",
        "\n",
        "    def __init__(self, d_in, d_out, context_length, dropout, qkv_bias=False):\n",
        "        \"\"\"\n",
        "        初始化因果自注意力层。\n",
        "\n",
        "        参数：\n",
        "        - d_in: 输入维度\n",
        "        - d_out: 输出维度\n",
        "        - context_length: 上下文长度（即注意力机制能“看到”的最大令牌数）\n",
        "        - dropout: Dropout率\n",
        "        - qkv_bias: 是否为查询、键和值使用偏置（默认为False）\n",
        "        \"\"\"\n",
        "        super().__init__()\n",
        "        self.d_out = d_out\n",
        "        # 定义查询、键、值的线性变换\n",
        "        self.W_query = nn.Linear(d_in, d_out, bias=qkv_bias)\n",
        "        self.W_key   = nn.Linear(d_in, d_out, bias=qkv_bias)\n",
        "        self.W_value = nn.Linear(d_in, d_out, bias=qkv_bias)\n",
        "\n",
        "        # Dropout层\n",
        "        self.dropout = nn.Dropout(dropout)  # 新增的Dropout层\n",
        "\n",
        "        # 注册一个buffer，用于存储因果掩码\n",
        "        self.register_buffer('mask', torch.triu(torch.ones(context_length, context_length), diagonal=1))  # 新增掩码，禁止未来的信息\n",
        "\n",
        "    def forward(self, x):\n",
        "        \"\"\"\n",
        "        前向传播函数计算因果自注意力输出。\n",
        "\n",
        "        参数：\n",
        "        - x: 输入的张量，形状为 (batch_size, num_tokens, d_in)\n",
        "\n",
        "        返回：\n",
        "        - context_vec: 自注意力机制的输出，形状为 (batch_size, num_tokens, d_out)\n",
        "        \"\"\"\n",
        "        b, n_tokens, d_in = x.shape  # 获取输入张量的维度\n",
        "        keys = self.W_key(x)  # 键（K）\n",
        "        queries = self.W_query(x)  # 查询（Q）\n",
        "        values = self.W_value(x)  # 值（V）\n",
        "\n",
        "        # 计算注意力分数（查询和键的点积）\n",
        "        attn_scores = queries @ keys.transpose(1, 2)  # 这里的转置（transpose）是为了匹配维度\n",
        "\n",
        "        # 使用掩码阻止未来的tokens看到当前token\n",
        "        attn_scores.masked_fill_(  # 这里的操作是原地修改\n",
        "            self.mask.bool()[:n_tokens, :n_tokens], -torch.inf)  # 将掩码区域填充为负无穷\n",
        "\n",
        "        # 计算注意力权重并进行softmax归一化\n",
        "        attn_weights = torch.softmax(attn_scores / keys.shape[-1]**0.5, dim=-1)\n",
        "        attn_weights = self.dropout(attn_weights)  # 使用Dropout层\n",
        "\n",
        "        # 计算上下文向量（加权和）\n",
        "        context_vec = attn_weights @ values\n",
        "        return context_vec"
      ],
      "metadata": {
        "id": "sl31Nc92QBkQ"
      },
      "id": "sl31Nc92QBkQ",
      "execution_count": 56,
      "outputs": []
    },
    {
      "cell_type": "code",
      "source": [
        "mask =torch.triu(torch.ones(4,4),diagonal=1)\n",
        "# print(mask)\n",
        "q=(torch.arange(1,25)*0.1).reshape(2,4,3).float() # Cast to float\n",
        "k=(torch.arange(1,25)*0.1).reshape(2,4,3).float() # Cast to float\n",
        "print(q)\n",
        "score = q@k.transpose(1,2)\n",
        "print(score)\n",
        "print(torch.bmm(q,k.transpose(1,2)))\n",
        "print(mask.bool())\n",
        "score_masked =score.masked_fill_(mask.bool()[:4,:4],-torch.inf)\n",
        "print(score_masked)\n",
        "score_masked_softmax = torch.softmax(score_masked,dim=-1)\n",
        "print(score_masked_softmax)"
      ],
      "metadata": {
        "id": "dnb96K6XP7Jg",
        "outputId": "859af109-c96f-41a2-a2b0-ea3456b854ff",
        "colab": {
          "base_uri": "https://localhost:8080/"
        }
      },
      "id": "dnb96K6XP7Jg",
      "execution_count": 57,
      "outputs": [
        {
          "output_type": "stream",
          "name": "stdout",
          "text": [
            "tensor([[[0.1000, 0.2000, 0.3000],\n",
            "         [0.4000, 0.5000, 0.6000],\n",
            "         [0.7000, 0.8000, 0.9000],\n",
            "         [1.0000, 1.1000, 1.2000]],\n",
            "\n",
            "        [[1.3000, 1.4000, 1.5000],\n",
            "         [1.6000, 1.7000, 1.8000],\n",
            "         [1.9000, 2.0000, 2.1000],\n",
            "         [2.2000, 2.3000, 2.4000]]])\n",
            "tensor([[[ 0.1400,  0.3200,  0.5000,  0.6800],\n",
            "         [ 0.3200,  0.7700,  1.2200,  1.6700],\n",
            "         [ 0.5000,  1.2200,  1.9400,  2.6600],\n",
            "         [ 0.6800,  1.6700,  2.6600,  3.6500]],\n",
            "\n",
            "        [[ 5.9000,  7.1600,  8.4200,  9.6800],\n",
            "         [ 7.1600,  8.6900, 10.2200, 11.7500],\n",
            "         [ 8.4200, 10.2200, 12.0200, 13.8200],\n",
            "         [ 9.6800, 11.7500, 13.8200, 15.8900]]])\n",
            "tensor([[[ 0.1400,  0.3200,  0.5000,  0.6800],\n",
            "         [ 0.3200,  0.7700,  1.2200,  1.6700],\n",
            "         [ 0.5000,  1.2200,  1.9400,  2.6600],\n",
            "         [ 0.6800,  1.6700,  2.6600,  3.6500]],\n",
            "\n",
            "        [[ 5.9000,  7.1600,  8.4200,  9.6800],\n",
            "         [ 7.1600,  8.6900, 10.2200, 11.7500],\n",
            "         [ 8.4200, 10.2200, 12.0200, 13.8200],\n",
            "         [ 9.6800, 11.7500, 13.8200, 15.8900]]])\n",
            "tensor([[False,  True,  True,  True],\n",
            "        [False, False,  True,  True],\n",
            "        [False, False, False,  True],\n",
            "        [False, False, False, False]])\n",
            "tensor([[[ 0.1400,    -inf,    -inf,    -inf],\n",
            "         [ 0.3200,  0.7700,    -inf,    -inf],\n",
            "         [ 0.5000,  1.2200,  1.9400,    -inf],\n",
            "         [ 0.6800,  1.6700,  2.6600,  3.6500]],\n",
            "\n",
            "        [[ 5.9000,    -inf,    -inf,    -inf],\n",
            "         [ 7.1600,  8.6900,    -inf,    -inf],\n",
            "         [ 8.4200, 10.2200, 12.0200,    -inf],\n",
            "         [ 9.6800, 11.7500, 13.8200, 15.8900]]])\n",
            "tensor([[[1.0000, 0.0000, 0.0000, 0.0000],\n",
            "         [0.3894, 0.6106, 0.0000, 0.0000],\n",
            "         [0.1375, 0.2824, 0.5802, 0.0000],\n",
            "         [0.0329, 0.0885, 0.2380, 0.6406]],\n",
            "\n",
            "        [[1.0000, 0.0000, 0.0000, 0.0000],\n",
            "         [0.1780, 0.8220, 0.0000, 0.0000],\n",
            "         [0.0229, 0.1386, 0.8385, 0.0000],\n",
            "         [0.0018, 0.0139, 0.1103, 0.8740]]])\n"
          ]
        }
      ]
    },
    {
      "cell_type": "markdown",
      "source": [
        "### 多头注意力\n",
        "实际是合并多头权重，做矩阵运算。  而不是分别遍历单头计算，再合并"
      ],
      "metadata": {
        "id": "2serlN1WWItx"
      },
      "id": "2serlN1WWItx"
    },
    {
      "cell_type": "code",
      "execution_count": 58,
      "id": "2773c09d-c136-4372-a2be-04b58d292842",
      "metadata": {
        "id": "2773c09d-c136-4372-a2be-04b58d292842"
      },
      "outputs": [],
      "source": [
        "class MultiHeadAttention(nn.Module):\n",
        "    \"\"\"\n",
        "    该类实现了多头自注意力机制（Multi-Head Attention），\n",
        "    用于自回归模型（如Transformer和GPT中的注意力层）。\n",
        "    \"\"\"\n",
        "\n",
        "    def __init__(self, d_in, d_out, context_length, dropout, num_heads, qkv_bias=False):\n",
        "        \"\"\"\n",
        "        初始化多头自注意力层。\n",
        "\n",
        "        参数：\n",
        "        - d_in: 输入维度\n",
        "        - d_out: 输出维度\n",
        "        - context_length: 上下文长度（即注意力机制能“看到”的最大令牌数）\n",
        "        - dropout: Dropout率\n",
        "        - num_heads: 注意力头的数量\n",
        "        - qkv_bias: 是否为查询、键和值使用偏置（默认为False）\n",
        "        \"\"\"\n",
        "        super().__init__()\n",
        "\n",
        "        # 检查输出维度是否能被头数整除\n",
        "        assert d_out % num_heads == 0, \"d_out must be divisible by num_heads\"\n",
        "\n",
        "        self.d_out = d_out\n",
        "        self.num_heads = num_heads\n",
        "        self.head_dim = d_out // num_heads  # 将输出维度除以头数，得到每个头的维度\n",
        "\n",
        "        # 定义查询、键、值的线性变换\n",
        "        self.W_query = nn.Linear(d_in, d_out, bias=qkv_bias)\n",
        "        self.W_key = nn.Linear(d_in, d_out, bias=qkv_bias)\n",
        "        self.W_value = nn.Linear(d_in, d_out, bias=qkv_bias)\n",
        "\n",
        "        # 定义输出的线性变换层，用于合并多个头的输出\n",
        "        self.out_proj = nn.Linear(d_out, d_out)\n",
        "        self.dropout = nn.Dropout(dropout)\n",
        "\n",
        "        # 注册一个buffer，用于存储因果掩码\n",
        "        self.register_buffer('mask', torch.triu(torch.ones(context_length, context_length), diagonal=1))  # 新增掩码，禁止未来的信息\n",
        "\n",
        "    def forward(self, x):\n",
        "        \"\"\"\n",
        "        前向传播函数，计算多头自注意力输出。\n",
        "\n",
        "        参数：\n",
        "        - x: 输入张量，形状为 (batch_size, num_tokens, d_in)\n",
        "\n",
        "        返回：\n",
        "        - context_vec: 多头自注意力的输出，形状为 (batch_size, num_tokens, d_out)\n",
        "        \"\"\"\n",
        "        b, num_tokens, d_in = x.shape  # 获取输入张量的维度\n",
        "\n",
        "        # 计算键、查询和值的表示\n",
        "        keys = self.W_key(x)  # 键（K）\n",
        "        queries = self.W_query(x)  # 查询（Q）\n",
        "        values = self.W_value(x)  # 值（V）\n",
        "\n",
        "        # 将最后的维度按头数进行拆分：\n",
        "        # 将 (b, num_tokens, d_out) 转换为 (b, num_tokens, num_heads, head_dim)\n",
        "        keys = keys.view(b, num_tokens, self.num_heads, self.head_dim)\n",
        "        values = values.view(b, num_tokens, self.num_heads, self.head_dim)\n",
        "        queries = queries.view(b, num_tokens, self.num_heads, self.head_dim)\n",
        "\n",
        "        # 转置以适配矩阵相乘：\n",
        "        # (b, num_tokens, num_heads, head_dim) -> (b, num_heads, num_tokens, head_dim)\n",
        "        keys = keys.transpose(1, 2)\n",
        "        queries = queries.transpose(1, 2)\n",
        "        values = values.transpose(1, 2)\n",
        "\n",
        "        # 计算缩放点积注意力（self-attention）\n",
        "        attn_scores = queries @ keys.transpose(2, 3)  # 点积计算每个头的注意力分数\n",
        "\n",
        "        # 通过掩码将未来的信息遮掩（变成负无穷）\n",
        "        mask_bool = self.mask.bool()[:num_tokens, :num_tokens]  # 将掩码转换为布尔类型\n",
        "        attn_scores.masked_fill_(mask_bool, -torch.inf)  # 使用掩码将未来的信息填充为负无穷\n",
        "\n",
        "        # 计算注意力权重并进行softmax归一化\n",
        "        attn_weights = torch.softmax(attn_scores / keys.shape[-1]**0.5, dim=-1)\n",
        "        attn_weights = self.dropout(attn_weights)  # 使用Dropout层\n",
        "\n",
        "        # 计算上下文向量（加权和）\n",
        "        context_vec = (attn_weights @ values).transpose(1, 2)  # 恢复维度 (b, num_tokens, num_heads, head_dim)\n",
        "\n",
        "        # 合并头部的输出，并进行线性变换\n",
        "        context_vec = context_vec.contiguous().view(b, num_tokens, self.d_out)  # 合并头的输出\n",
        "        context_vec = self.out_proj(context_vec)  # 可选的投影层\n",
        "\n",
        "        return context_vec"
      ]
    },
    {
      "cell_type": "code",
      "execution_count": 59,
      "id": "779fdd04-0152-4308-af08-840800a7f395",
      "metadata": {
        "id": "779fdd04-0152-4308-af08-840800a7f395",
        "outputId": "2bf369c2-bdb8-4685-bfbf-b7784ddbe696",
        "colab": {
          "base_uri": "https://localhost:8080/"
        }
      },
      "outputs": [
        {
          "output_type": "stream",
          "name": "stdout",
          "text": [
            "context_vecs.shape: torch.Size([8, 4, 256])\n"
          ]
        }
      ],
      "source": [
        "torch.manual_seed(123)\n",
        "\n",
        "context_length = max_length\n",
        "d_in = output_dim\n",
        "d_out = d_in\n",
        "\n",
        "mha = MultiHeadAttention(d_in, d_out, context_length, 0.0, num_heads=2)\n",
        "\n",
        "batch = input_embeddings\n",
        "context_vecs = mha(batch)\n",
        "\n",
        "print(\"context_vecs.shape:\", context_vecs.shape)"
      ]
    }
  ],
  "metadata": {
    "kernelspec": {
      "display_name": "Python 3 (ipykernel)",
      "language": "python",
      "name": "python3"
    },
    "language_info": {
      "codemirror_mode": {
        "name": "ipython",
        "version": 3
      },
      "file_extension": ".py",
      "mimetype": "text/x-python",
      "name": "python",
      "nbconvert_exporter": "python",
      "pygments_lexer": "ipython3",
      "version": "3.12.6"
    },
    "colab": {
      "provenance": [],
      "toc_visible": true,
      "include_colab_link": true
    }
  },
  "nbformat": 4,
  "nbformat_minor": 5
}