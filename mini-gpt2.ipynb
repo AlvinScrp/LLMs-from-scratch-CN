{
  "cells": [
    {
      "cell_type": "markdown",
      "metadata": {
        "id": "view-in-github",
        "colab_type": "text"
      },
      "source": [
        "<a href=\"https://colab.research.google.com/github/AlvinScrp/LLMs-from-scratch-CN/blob/main/mini-gpt2.ipynb\" target=\"_parent\"><img src=\"https://colab.research.google.com/assets/colab-badge.svg\" alt=\"Open In Colab\"/></a>"
      ]
    },
    {
      "cell_type": "markdown",
      "id": "6f678e62-7bcb-4405-86ae-dce94f494303",
      "metadata": {
        "id": "6f678e62-7bcb-4405-86ae-dce94f494303"
      },
      "source": [
        "# 一个简单的GPT2"
      ]
    },
    {
      "cell_type": "code",
      "execution_count": 1,
      "id": "ac9b5847-0515-45cd-87b0-46541f6a1f79",
      "metadata": {
        "id": "ac9b5847-0515-45cd-87b0-46541f6a1f79",
        "outputId": "7a5d8898-98b3-4282-dfac-c28cc83574b2",
        "colab": {
          "base_uri": "https://localhost:8080/"
        }
      },
      "outputs": [
        {
          "output_type": "stream",
          "name": "stdout",
          "text": [
            "torch version: 2.8.0+cu126\n",
            "tiktoken version: 0.12.0\n"
          ]
        }
      ],
      "source": [
        "# NBVAL_IGNORE_OUTPUT\n",
        "from importlib.metadata import version\n",
        "\n",
        "print(\"torch version:\", version(\"torch\"))\n",
        "print(\"tiktoken version:\", version(\"tiktoken\"))\n",
        "import tiktoken\n",
        "import torch\n",
        "import torch.nn as nn\n",
        "from torch.utils.data import Dataset, DataLoader"
      ]
    },
    {
      "cell_type": "markdown",
      "id": "3f60dc93-281d-447e-941f-aede0c7ff7fc",
      "metadata": {
        "id": "3f60dc93-281d-447e-941f-aede0c7ff7fc"
      },
      "source": [
        "## 数据加载\n",
        "* 文本：the-verdict.txt\n",
        "* gpt2 tokenizer\n",
        "* Dataloader\n",
        "* token_embedding position_embedding\n"
      ]
    },
    {
      "cell_type": "code",
      "execution_count": 2,
      "id": "0ed4b7db-3b47-4fd3-a4a6-5f4ed5dd166e",
      "metadata": {
        "id": "0ed4b7db-3b47-4fd3-a4a6-5f4ed5dd166e",
        "outputId": "97c6a03b-3d23-4166-d661-4a4fc1dc9ccf",
        "colab": {
          "base_uri": "https://localhost:8080/"
        }
      },
      "outputs": [
        {
          "output_type": "stream",
          "name": "stdout",
          "text": [
            "https://raw.githubusercontent.com/rasbt/LLMs-from-scratch/main/ch02/01_main-chapter-code/the-verdict.txt\n"
          ]
        }
      ],
      "source": [
        "import os##导入os库\n",
        "import urllib.request ##导入request库\n",
        "\n",
        "if not os.path.exists(\"the-verdict.txt\"):##如果文件不存在则创建，防止因文件已存在而报错\n",
        "    url = (\"https://raw.githubusercontent.com/rasbt/\"\n",
        "           \"LLMs-from-scratch/main/ch02/01_main-chapter-code/\"\n",
        "           \"the-verdict.txt\")\n",
        "    print(url)\n",
        "    file_path = \"the-verdict.txt\"\n",
        "    urllib.request.urlretrieve(url, file_path)##从指定的地点读取文件\n",
        "with open(\"the-verdict.txt\", \"r\", encoding=\"utf-8\") as f:\n",
        "    raw_text = f.read()  # 读取文本文件\n",
        "#raw_text 后续使用\n",
        "\n",
        "class GPTDatasetV1(Dataset):\n",
        "    def __init__(self, txt, tokenizer, max_length, stride):\n",
        "        self.input_ids = []  # 输入ID列表\n",
        "        self.target_ids = []  # 目标ID列表\n",
        "\n",
        "        # 对整个文本进行分词\n",
        "        token_ids = tokenizer.encode(txt, allowed_special={'<|endoftext|>'})\n",
        "\n",
        "        # 使用滑动窗口将文本分割成重叠的最大长度序列\n",
        "        for i in range(0, len(token_ids) - max_length, stride):\n",
        "            input_chunk = token_ids[i:i + max_length]  # 输入片段\n",
        "            target_chunk = token_ids[i + 1: i + max_length + 1]  # 目标片段（右移一个位置）\n",
        "            self.input_ids.append(torch.tensor(input_chunk))  # 将输入片段转换为张量\n",
        "            self.target_ids.append(torch.tensor(target_chunk))  # 将目标片段转换为张量\n",
        "\n",
        "    def __len__(self):\n",
        "        return len(self.input_ids)  # 返回数据集的大小\n",
        "\n",
        "    def __getitem__(self, idx):\n",
        "        return self.input_ids[idx], self.target_ids[idx]  # 获取特定索引的输入和目标\n",
        "\n",
        "def create_dataloader(txt, batch_size=4, max_length=256, stride=128, shuffle=True):\n",
        "    # 初始化分词器\n",
        "    tokenizer = tiktoken.get_encoding(\"gpt2\")\n",
        "    # 创建数据集\n",
        "    dataset = GPTDatasetV1(txt, tokenizer, max_length, stride)\n",
        "    # 创建数据加载器\n",
        "    dataloader = DataLoader(dataset, batch_size=batch_size, shuffle=shuffle)\n",
        "\n",
        "    return dataloader  # 返回数据加载器\n",
        "\n",
        "vocab_size = 50257  # 词汇表大小\n",
        "output_dim = 256  # 输出维度\n",
        "max_len = 1024  # 最大序列长度\n",
        "context_length = max_len  # 上下文长度\n",
        "\n",
        "\n",
        "token_embedding_layer = nn.Embedding(vocab_size, output_dim)  # 创建词嵌入层\n",
        "pos_embedding_layer =  nn.Embedding(context_length, output_dim)  # 创建位置嵌入层\n",
        "\n",
        "max_length = 4  # 每个输入片段的最大长度\n",
        "dataloader = create_dataloader(raw_text, batch_size=8, max_length=max_length, stride=max_length)  # 创建数据加载器"
      ]
    },
    {
      "cell_type": "markdown",
      "source": [
        "测试代码"
      ],
      "metadata": {
        "id": "7YUCnT0PVgQt"
      },
      "id": "7YUCnT0PVgQt"
    },
    {
      "cell_type": "code",
      "source": [
        "tokenizer = tiktoken.get_encoding(\"gpt2\")  # 初始化分词器\n",
        "encoded_text = tokenizer.encode(raw_text)  # 对文本进行编码\n",
        "print(raw_text[:50])\n",
        "print(encoded_text[:8])\n",
        "print(tokenizer.decode(encoded_text[:8]))\n",
        "print('-'*20)\n",
        "for batch in dataloader:\n",
        "    x, y = batch\n",
        "\n",
        "    token_embeddings = token_embedding_layer(x)\n",
        "    pos_embeddings = pos_embedding_layer(torch.arange(max_length))\n",
        "\n",
        "    input_embeddings = token_embeddings + pos_embeddings\n",
        "\n",
        "    break\n",
        "print(input_embeddings.shape)"
      ],
      "metadata": {
        "id": "5OZSFw4zUmXR",
        "outputId": "9be3dca1-5f0c-4350-dfbb-79cdf818732c",
        "colab": {
          "base_uri": "https://localhost:8080/"
        }
      },
      "id": "5OZSFw4zUmXR",
      "execution_count": 3,
      "outputs": [
        {
          "output_type": "stream",
          "name": "stdout",
          "text": [
            "I HAD always thought Jack Gisburn rather a cheap g\n",
            "[40, 367, 2885, 1464, 1807, 3619, 402, 271]\n",
            "I HAD always thought Jack Gis\n",
            "--------------------\n",
            "torch.Size([8, 4, 256])\n"
          ]
        }
      ]
    },
    {
      "cell_type": "markdown",
      "id": "bd298bf4-e320-40c1-9084-6526d07e6d5d",
      "metadata": {
        "id": "bd298bf4-e320-40c1-9084-6526d07e6d5d"
      },
      "source": [
        "## 注意力机制"
      ]
    },
    {
      "cell_type": "markdown",
      "source": [
        "- 以下是之前实现的自注意力机制总结（为简化起见，未展示因果和dropout掩码）：\n",
        "\n",
        "- 这种机制也称为单头注意力：\n",
        "\n",
        "<img src=\"https://sebastianraschka.com/images/LLMs-from-scratch-images/ch03_compressed/24.webp\" width=\"400px\">\n",
        "\n",
        "- 我们通过堆叠多个单头注意力模块来构建多头注意力模块：\n",
        "\n",
        "<img src=\"https://sebastianraschka.com/images/LLMs-from-scratch-images/ch03_compressed/25.webp\" width=\"400px\">\n",
        "\n",
        "- 多头注意力的核心思想是使用不同的学习到的线性投影，并行地多次运行注意力机制。这使得模型能够在不同位置同时关注来自不同表示子空间的信息。\n",
        "<img src=\"https://sebastianraschka.com/images/LLMs-from-scratch-images/ch03_compressed/26.webp\" width=\"400px\">"
      ],
      "metadata": {
        "id": "smAFQJDOGsH3"
      },
      "id": "smAFQJDOGsH3"
    },
    {
      "cell_type": "markdown",
      "source": [
        "### 带掩码的单头自注意力\n",
        "仅示例，后续不会用到"
      ],
      "metadata": {
        "id": "DJaSEfhbWED0"
      },
      "id": "DJaSEfhbWED0"
    },
    {
      "cell_type": "code",
      "source": [
        "class CausalSelfAttention(nn.Module):\n",
        "    \"\"\"\n",
        "    该类实现了因果自注意力机制（Causal Self Attention），\n",
        "    用于自回归模型（例如GPT模型中的注意力层）。\n",
        "    \"\"\"\n",
        "\n",
        "    def __init__(self, d_in, d_out, context_length, dropout, qkv_bias=False):\n",
        "        \"\"\"\n",
        "        初始化因果自注意力层。\n",
        "\n",
        "        参数：\n",
        "        - d_in: 输入维度\n",
        "        - d_out: 输出维度\n",
        "        - context_length: 上下文长度（即注意力机制能“看到”的最大令牌数）\n",
        "        - dropout: Dropout率\n",
        "        - qkv_bias: 是否为查询、键和值使用偏置（默认为False）\n",
        "        \"\"\"\n",
        "        super().__init__()\n",
        "        self.d_out = d_out\n",
        "        # 定义查询、键、值的线性变换\n",
        "        self.W_query = nn.Linear(d_in, d_out, bias=qkv_bias)\n",
        "        self.W_key   = nn.Linear(d_in, d_out, bias=qkv_bias)\n",
        "        self.W_value = nn.Linear(d_in, d_out, bias=qkv_bias)\n",
        "\n",
        "        # Dropout层\n",
        "        self.dropout = nn.Dropout(dropout)  # 新增的Dropout层\n",
        "\n",
        "        # 注册一个buffer，用于存储因果掩码\n",
        "        self.register_buffer('mask', torch.triu(torch.ones(context_length, context_length), diagonal=1))  # 新增掩码，禁止未来的信息\n",
        "\n",
        "    def forward(self, x):\n",
        "        \"\"\"\n",
        "        前向传播函数计算因果自注意力输出。\n",
        "\n",
        "        参数：\n",
        "        - x: 输入的张量，形状为 (batch_size, num_tokens, d_in)\n",
        "\n",
        "        返回：\n",
        "        - context_vec: 自注意力机制的输出，形状为 (batch_size, num_tokens, d_out)\n",
        "        \"\"\"\n",
        "        b, n_tokens, d_in = x.shape  # 获取输入张量的维度\n",
        "        keys = self.W_key(x)  # 键（K）\n",
        "        queries = self.W_query(x)  # 查询（Q）\n",
        "        values = self.W_value(x)  # 值（V）\n",
        "\n",
        "        # 计算注意力分数（查询和键的点积）\n",
        "        attn_scores = queries @ keys.transpose(1, 2)  # 这里的转置（transpose）是为了匹配维度\n",
        "\n",
        "        # 使用掩码阻止未来的tokens看到当前token\n",
        "        attn_scores.masked_fill_(  # 这里的操作是原地修改\n",
        "            self.mask.bool()[:n_tokens, :n_tokens], -torch.inf)  # 将掩码区域填充为负无穷\n",
        "\n",
        "        # 计算注意力权重并进行softmax归一化\n",
        "        attn_weights = torch.softmax(attn_scores / keys.shape[-1]**0.5, dim=-1)\n",
        "        attn_weights = self.dropout(attn_weights)  # 使用Dropout层\n",
        "\n",
        "        # 计算上下文向量（加权和）\n",
        "        context_vec = attn_weights @ values\n",
        "        return context_vec"
      ],
      "metadata": {
        "id": "sl31Nc92QBkQ"
      },
      "id": "sl31Nc92QBkQ",
      "execution_count": 4,
      "outputs": []
    },
    {
      "cell_type": "code",
      "source": [
        "mask =torch.triu(torch.ones(4,4),diagonal=1)\n",
        "# print(mask)\n",
        "q=(torch.arange(1,25)*0.1).reshape(2,4,3).float() # Cast to float\n",
        "k=(torch.arange(1,25)*0.1).reshape(2,4,3).float() # Cast to float\n",
        "print(q)\n",
        "score = q@k.transpose(1,2)\n",
        "print(score)\n",
        "print(torch.bmm(q,k.transpose(1,2)))\n",
        "print(mask.bool())\n",
        "score_masked =score.masked_fill_(mask.bool()[:4,:4],-torch.inf)\n",
        "print(score_masked)\n",
        "score_masked_softmax = torch.softmax(score_masked,dim=-1)\n",
        "print(score_masked_softmax)"
      ],
      "metadata": {
        "id": "dnb96K6XP7Jg",
        "outputId": "b0c75378-477a-452b-99f7-6f98f1a39b84",
        "colab": {
          "base_uri": "https://localhost:8080/"
        }
      },
      "id": "dnb96K6XP7Jg",
      "execution_count": 5,
      "outputs": [
        {
          "output_type": "stream",
          "name": "stdout",
          "text": [
            "tensor([[[0.1000, 0.2000, 0.3000],\n",
            "         [0.4000, 0.5000, 0.6000],\n",
            "         [0.7000, 0.8000, 0.9000],\n",
            "         [1.0000, 1.1000, 1.2000]],\n",
            "\n",
            "        [[1.3000, 1.4000, 1.5000],\n",
            "         [1.6000, 1.7000, 1.8000],\n",
            "         [1.9000, 2.0000, 2.1000],\n",
            "         [2.2000, 2.3000, 2.4000]]])\n",
            "tensor([[[ 0.1400,  0.3200,  0.5000,  0.6800],\n",
            "         [ 0.3200,  0.7700,  1.2200,  1.6700],\n",
            "         [ 0.5000,  1.2200,  1.9400,  2.6600],\n",
            "         [ 0.6800,  1.6700,  2.6600,  3.6500]],\n",
            "\n",
            "        [[ 5.9000,  7.1600,  8.4200,  9.6800],\n",
            "         [ 7.1600,  8.6900, 10.2200, 11.7500],\n",
            "         [ 8.4200, 10.2200, 12.0200, 13.8200],\n",
            "         [ 9.6800, 11.7500, 13.8200, 15.8900]]])\n",
            "tensor([[[ 0.1400,  0.3200,  0.5000,  0.6800],\n",
            "         [ 0.3200,  0.7700,  1.2200,  1.6700],\n",
            "         [ 0.5000,  1.2200,  1.9400,  2.6600],\n",
            "         [ 0.6800,  1.6700,  2.6600,  3.6500]],\n",
            "\n",
            "        [[ 5.9000,  7.1600,  8.4200,  9.6800],\n",
            "         [ 7.1600,  8.6900, 10.2200, 11.7500],\n",
            "         [ 8.4200, 10.2200, 12.0200, 13.8200],\n",
            "         [ 9.6800, 11.7500, 13.8200, 15.8900]]])\n",
            "tensor([[False,  True,  True,  True],\n",
            "        [False, False,  True,  True],\n",
            "        [False, False, False,  True],\n",
            "        [False, False, False, False]])\n",
            "tensor([[[ 0.1400,    -inf,    -inf,    -inf],\n",
            "         [ 0.3200,  0.7700,    -inf,    -inf],\n",
            "         [ 0.5000,  1.2200,  1.9400,    -inf],\n",
            "         [ 0.6800,  1.6700,  2.6600,  3.6500]],\n",
            "\n",
            "        [[ 5.9000,    -inf,    -inf,    -inf],\n",
            "         [ 7.1600,  8.6900,    -inf,    -inf],\n",
            "         [ 8.4200, 10.2200, 12.0200,    -inf],\n",
            "         [ 9.6800, 11.7500, 13.8200, 15.8900]]])\n",
            "tensor([[[1.0000, 0.0000, 0.0000, 0.0000],\n",
            "         [0.3894, 0.6106, 0.0000, 0.0000],\n",
            "         [0.1375, 0.2824, 0.5802, 0.0000],\n",
            "         [0.0329, 0.0885, 0.2380, 0.6406]],\n",
            "\n",
            "        [[1.0000, 0.0000, 0.0000, 0.0000],\n",
            "         [0.1780, 0.8220, 0.0000, 0.0000],\n",
            "         [0.0229, 0.1386, 0.8385, 0.0000],\n",
            "         [0.0018, 0.0139, 0.1103, 0.8740]]])\n"
          ]
        }
      ]
    },
    {
      "cell_type": "markdown",
      "source": [
        "### 多头注意力\n",
        "实际是合并多头权重，做矩阵运算。  而不是分别遍历单头计算，再合并"
      ],
      "metadata": {
        "id": "2serlN1WWItx"
      },
      "id": "2serlN1WWItx"
    },
    {
      "cell_type": "code",
      "execution_count": 6,
      "id": "2773c09d-c136-4372-a2be-04b58d292842",
      "metadata": {
        "id": "2773c09d-c136-4372-a2be-04b58d292842"
      },
      "outputs": [],
      "source": [
        "class MultiHeadAttention(nn.Module):\n",
        "    \"\"\"\n",
        "    该类实现了多头自注意力机制（Multi-Head Attention），\n",
        "    用于自回归模型（如Transformer和GPT中的注意力层）。\n",
        "    \"\"\"\n",
        "\n",
        "    def __init__(self, d_in, d_out, context_length, dropout, num_heads, qkv_bias=False):\n",
        "        \"\"\"\n",
        "        初始化多头自注意力层。\n",
        "\n",
        "        参数：\n",
        "        - d_in: 输入维度\n",
        "        - d_out: 输出维度\n",
        "        - context_length: 上下文长度（即注意力机制能“看到”的最大令牌数）\n",
        "        - dropout: Dropout率\n",
        "        - num_heads: 注意力头的数量\n",
        "        - qkv_bias: 是否为查询、键和值使用偏置（默认为False）\n",
        "        \"\"\"\n",
        "        super().__init__()\n",
        "\n",
        "        # 检查输出维度是否能被头数整除\n",
        "        assert d_out % num_heads == 0, \"d_out must be divisible by num_heads\"\n",
        "\n",
        "        self.d_out = d_out\n",
        "        self.num_heads = num_heads\n",
        "        self.head_dim = d_out // num_heads  # 将输出维度除以头数，得到每个头的维度\n",
        "\n",
        "        # 定义查询、键、值的线性变换\n",
        "        self.W_query = nn.Linear(d_in, d_out, bias=qkv_bias)\n",
        "        self.W_key = nn.Linear(d_in, d_out, bias=qkv_bias)\n",
        "        self.W_value = nn.Linear(d_in, d_out, bias=qkv_bias)\n",
        "\n",
        "        # 定义输出的线性变换层，用于合并多个头的输出\n",
        "        self.out_proj = nn.Linear(d_out, d_out)\n",
        "        self.dropout = nn.Dropout(dropout)\n",
        "\n",
        "        # 注册一个buffer，用于存储因果掩码\n",
        "        self.register_buffer('mask', torch.triu(torch.ones(context_length, context_length), diagonal=1))  # 新增掩码，禁止未来的信息\n",
        "\n",
        "    def forward(self, x):\n",
        "        \"\"\"\n",
        "        前向传播函数，计算多头自注意力输出。\n",
        "\n",
        "        参数：\n",
        "        - x: 输入张量，形状为 (batch_size, num_tokens, d_in)\n",
        "\n",
        "        返回：\n",
        "        - context_vec: 多头自注意力的输出，形状为 (batch_size, num_tokens, d_out)\n",
        "        \"\"\"\n",
        "        b, num_tokens, d_in = x.shape  # 获取输入张量的维度\n",
        "\n",
        "        # 计算键、查询和值的表示\n",
        "        keys = self.W_key(x)  # 键（K）\n",
        "        queries = self.W_query(x)  # 查询（Q）\n",
        "        values = self.W_value(x)  # 值（V）\n",
        "\n",
        "        # 将最后的维度按头数进行拆分：\n",
        "        # 将 (b, num_tokens, d_out) 转换为 (b, num_tokens, num_heads, head_dim)\n",
        "        keys = keys.view(b, num_tokens, self.num_heads, self.head_dim)\n",
        "        values = values.view(b, num_tokens, self.num_heads, self.head_dim)\n",
        "        queries = queries.view(b, num_tokens, self.num_heads, self.head_dim)\n",
        "\n",
        "        # 转置以适配矩阵相乘：\n",
        "        # (b, num_tokens, num_heads, head_dim) -> (b, num_heads, num_tokens, head_dim)\n",
        "        keys = keys.transpose(1, 2)\n",
        "        queries = queries.transpose(1, 2)\n",
        "        values = values.transpose(1, 2)\n",
        "\n",
        "        # 计算缩放点积注意力（self-attention）\n",
        "        attn_scores = queries @ keys.transpose(2, 3)  # 点积计算每个头的注意力分数\n",
        "\n",
        "        # 通过掩码将未来的信息遮掩（变成负无穷）\n",
        "        mask_bool = self.mask.bool()[:num_tokens, :num_tokens]  # 将掩码转换为布尔类型\n",
        "        attn_scores.masked_fill_(mask_bool, -torch.inf)  # 使用掩码将未来的信息填充为负无穷\n",
        "\n",
        "        # 计算注意力权重并进行softmax归一化\n",
        "        attn_weights = torch.softmax(attn_scores / keys.shape[-1]**0.5, dim=-1)\n",
        "        attn_weights = self.dropout(attn_weights)  # 使用Dropout层\n",
        "\n",
        "        # 计算上下文向量（加权和）\n",
        "        context_vec = (attn_weights @ values).transpose(1, 2)  # 恢复维度 (b, num_tokens, num_heads, head_dim)\n",
        "\n",
        "        # 合并头部的输出，并进行线性变换\n",
        "        context_vec = context_vec.contiguous().view(b, num_tokens, self.d_out)  # 合并头的输出\n",
        "        context_vec = self.out_proj(context_vec)  # 可选的投影层\n",
        "\n",
        "        return context_vec"
      ]
    },
    {
      "cell_type": "code",
      "execution_count": 7,
      "id": "779fdd04-0152-4308-af08-840800a7f395",
      "metadata": {
        "id": "779fdd04-0152-4308-af08-840800a7f395",
        "outputId": "3f5103b4-f28f-4696-c6c2-35348796a1c4",
        "colab": {
          "base_uri": "https://localhost:8080/"
        }
      },
      "outputs": [
        {
          "output_type": "stream",
          "name": "stdout",
          "text": [
            "context_vecs.shape: torch.Size([8, 4, 256])\n"
          ]
        }
      ],
      "source": [
        "torch.manual_seed(123)\n",
        "\n",
        "context_length = max_length\n",
        "d_in = output_dim\n",
        "d_out = d_in\n",
        "\n",
        "mha = MultiHeadAttention(d_in, d_out, context_length, 0.0, num_heads=2)\n",
        "\n",
        "batch = input_embeddings\n",
        "context_vecs = mha(batch)\n",
        "\n",
        "print(\"context_vecs.shape:\", context_vecs.shape)"
      ]
    },
    {
      "cell_type": "markdown",
      "source": [
        "## 模型结构"
      ],
      "metadata": {
        "id": "r2-MUZcasOlG"
      },
      "id": "r2-MUZcasOlG"
    },
    {
      "cell_type": "markdown",
      "source": [
        "\n",
        "<img src=\"https://ffighting.net/wp-content/uploads/2023/09/image-22.png\" width=\"800px\">"
      ],
      "metadata": {
        "id": "x8loZwoQtiPb"
      },
      "id": "x8loZwoQtiPb"
    },
    {
      "cell_type": "markdown",
      "source": [
        "架构参数"
      ],
      "metadata": {
        "id": "GJMDFVcBtfgr"
      },
      "id": "GJMDFVcBtfgr"
    },
    {
      "cell_type": "code",
      "source": [
        "GPT_CONFIG_124M = {\n",
        "    \"vocab_size\": 50257,    # Vocabulary size\n",
        "    \"context_length\": 1024, # Context length\n",
        "    \"emb_dim\": 768,         # Embedding dimension\n",
        "    \"n_heads\": 12,          # Number of attention heads\n",
        "    \"n_layers\": 12,         # Number of layers\n",
        "    \"drop_rate\": 0.1,       # Dropout rate\n",
        "    \"qkv_bias\": False       # Query-Key-Value bias\n",
        "}\n",
        "#初始化定义需要的各种超参数"
      ],
      "metadata": {
        "id": "GvbRZM51sNkd"
      },
      "id": "GvbRZM51sNkd",
      "execution_count": 8,
      "outputs": []
    },
    {
      "cell_type": "markdown",
      "source": [
        "## Add & Layer norm\n",
        "- 残差连接：x + Sublayer(x)\n",
        "- 层归一化：LayerNorm(x + Sublayer(x))"
      ],
      "metadata": {
        "id": "dcHPUbXDuKOi"
      },
      "id": "dcHPUbXDuKOi"
    },
    {
      "cell_type": "markdown",
      "source": [
        "###  Residual Connections 残差连接"
      ],
      "metadata": {
        "id": "J3b2urojQpQi"
      },
      "id": "J3b2urojQpQi"
    },
    {
      "cell_type": "markdown",
      "source": [
        "### LayerNorm 层归一化\n",
        "层归一化是对每个序列中的每一个 Token 单独进行归一化，归一化的计算完全在 Token 内部的特征维度上进行。\n",
        "\n",
        "LayerNorm 的计算逻辑非常简洁：\n",
        "\n",
        "$$\n",
        "y = \\frac{x - \\mu}{\\sqrt{\\sigma^2 + \\epsilon}} \\cdot \\gamma + \\beta\n",
        "$$\n",
        "\n",
        "其中：\n",
        "\n",
        "| 符号            | 含义                 |\n",
        "| ------------- | --------------------- |\n",
        "| x             | 输入特征向量             |\n",
        "| mu (μ)        | 特征维度上的均值           |\n",
        "| sigma\\^2 (σ²) | 特征维度上的方差           |\n",
        "| eps (ε)       | 防止除零的数值稳定项（如 1e-5） |\n",
        "| gamma (γ)     | 可学习的缩放参数（scale）    |\n",
        "| beta (β)      | 可学习的偏移参数（shift）    |"
      ],
      "metadata": {
        "id": "2YxASKA61sDi"
      },
      "id": "2YxASKA61sDi"
    },
    {
      "cell_type": "code",
      "source": [
        "class LayerNorm(nn.Module):\n",
        "    #layer归一化的函数,可以避免信息泄露也可以稳定\n",
        "    def __init__(self, emb_dim):\n",
        "        super().__init__()\n",
        "        self.eps = 1e-5 #避免0的产生导致崩溃\n",
        "        self.scale = nn.Parameter(torch.ones(emb_dim)) #动态的缩放参数\n",
        "        self.shift = nn.Parameter(torch.zeros(emb_dim)) #动态的偏移参数\n",
        "\n",
        "    def forward(self, x):\n",
        "        #设置 dim=-1 的意思是让计算沿着最后一个维度进行（在这里是特征维度），而不是按序列处理。\n",
        "        mean = x.mean(dim=-1, keepdim=True)#算平均值\n",
        "        var = x.var(dim=-1, keepdim=True, unbiased=False)#算方差\n",
        "        #通过减去均值并除以方差的平方根（即标准差），可以让输入在列（特征）维度上的均值变为 0，方差变为 1\n",
        "        norm_x = (x - mean) / torch.sqrt(var + self.eps)#归一化\n",
        "        #γ 与 β 允许模型学习自适应的缩放与偏移，从而保留归一化前的表达能力。\n",
        "        #在某些场景下，它们甚至可以「撤销」归一化带来的影响，让网络拥有更大的自由度。\n",
        "        return self.scale * norm_x + self.shift"
      ],
      "metadata": {
        "id": "4lbNCzDkvVXF"
      },
      "id": "4lbNCzDkvVXF",
      "execution_count": 9,
      "outputs": []
    },
    {
      "cell_type": "code",
      "source": [
        "torch.set_printoptions(precision=8, sci_mode=False)\n",
        "torch.manual_seed(123)\n",
        "x=torch.randn(1,2,3)\n",
        "print(x)\n",
        "mean = x.mean(dim=-1, keepdim=True)\n",
        "var = x.var(dim=-1, keepdim=True)\n",
        "print(\"Mean:\\n\", mean)\n",
        "print(\"Variance:\\n\", var)\n",
        "\n",
        "out_norm = (x - mean) / torch.sqrt(var)\n",
        "#执行归一化操作\n",
        "print(\"Normalized layer outputs:\\n\", out_norm)\n",
        "\n",
        "mean = out_norm.mean(dim=-1, keepdim=True)\n",
        "var = out_norm.var(dim=-1, keepdim=True)\n",
        "print(\"Mean:\\n\", mean)\n",
        "print(\"Variance:\\n\", var)\n",
        "\n",
        "print(\"*\"*10)\n",
        "ln = LayerNorm(emb_dim=3)#归一化一个五维度\n",
        "out_ln = ln(x)\n",
        "mean = out_ln.mean(dim=-1, keepdim=True)\n",
        "var = out_ln.var(dim=-1, unbiased=False, keepdim=True)\n",
        "\n",
        "print(\"Mean:\\n\", mean)\n",
        "print(\"Variance:\\n\", var)\n"
      ],
      "metadata": {
        "id": "KM7bPanZ0wiG",
        "outputId": "ad4f6f5a-9a57-43cf-d2b8-9616e58ebd56",
        "colab": {
          "base_uri": "https://localhost:8080/"
        }
      },
      "id": "KM7bPanZ0wiG",
      "execution_count": 28,
      "outputs": [
        {
          "output_type": "stream",
          "name": "stdout",
          "text": [
            "tensor([[[-0.11146712,  0.12036294, -0.36963451],\n",
            "         [-0.24041797, -1.19692433,  0.20926936]]])\n",
            "Mean:\n",
            " tensor([[[-0.12024623],\n",
            "         [-0.40935764]]])\n",
            "Variance:\n",
            " tensor([[[0.06008218],\n",
            "         [0.51575065]]])\n",
            "Normalized layer outputs:\n",
            " tensor([[[ 0.03581607,  0.98161083, -1.01742685],\n",
            "         [ 0.23524030, -1.09664845,  0.86140817]]])\n",
            "Mean:\n",
            " tensor([[[0.],\n",
            "         [0.]]])\n",
            "Variance:\n",
            " tensor([[[1.00000000],\n",
            "         [0.99999994]]])\n",
            "**********\n",
            "Mean:\n",
            " tensor([[[    0.00000000],\n",
            "         [    0.00000004]]], grad_fn=<MeanBackward1>)\n",
            "Variance:\n",
            " tensor([[[0.99975038],\n",
            "         [0.99997091]]], grad_fn=<VarBackward0>)\n"
          ]
        }
      ]
    },
    {
      "cell_type": "markdown",
      "source": [
        "## LayerNormal 层归一化\n",
        "LayerNorm(x + Sublayer(x))"
      ],
      "metadata": {
        "id": "GAkCs15krVyc"
      },
      "id": "GAkCs15krVyc"
    },
    {
      "cell_type": "code",
      "source": [],
      "metadata": {
        "id": "m4DtPplLrqT-"
      },
      "id": "m4DtPplLrqT-",
      "execution_count": 10,
      "outputs": []
    },
    {
      "cell_type": "markdown",
      "source": [
        "## GELU激活函数\n",
        "- 在深度学习中，ReLU（线性整流单元）激活函数因其简单性和在各种神经网络架构中的高效性而被广泛使用。\n",
        "- 在 LLM 中，除了传统的 ReLU，还使用了其他类型的激活函数。例如 GELU（高斯误差线性单元）\n",
        "- GELU (高斯误差线性单元)是一种先进的平滑激活函数，它不像 ReLU 那样在零点进行“一刀切”式的硬性截断，而是根据输入值的统计概率来决定神经元在多大程度上被激活。\n",
        "- 这种概率性的门控机制使得 GELU 的函数曲线处处平滑可导，并在负值区平滑过渡，这与 ReLU 在零点存在尖锐拐角且完全丢弃负值信息形成了鲜明对比。\n",
        "- 总而言之，GELU 通过这种更“自然”的非线性变换，通常能为 Transformer 等现代模型带来优于 ReLU 的性能和更稳定的训练过程。\n",
        "- **GELU**（[Hendrycks 和 Gimpel, 2016](https://arxiv.org/abs/1606.08415)）可以通过多种方式实现；其精确定义为 $\\text{GELU}(x) = x \\cdot \\Phi(x)$，其中 $\\Phi(x)$ 是标准高斯分布的累积分布函数。\n",
        "- 在实际应用中，通常会使用一种计算成本更低的近似形式：  \n",
        "  $\\text{GELU}(x) \\approx 0.5 \\cdot x \\cdot \\left(1 + \\tanh\\left[\\sqrt{\\frac{2}{\\pi}} \\cdot \\left(x + 0.044715 \\cdot x^3\\right)\\right]\\right)$  \n",
        "  （原始 GPT-2 模型也是使用该近似公式进行训练的）。"
      ],
      "metadata": {
        "id": "ytsT6R09qzWy"
      },
      "id": "ytsT6R09qzWy"
    },
    {
      "cell_type": "code",
      "source": [
        "class GELU(nn.Module):\n",
        "    def __init__(self):\n",
        "        super().__init__()\n",
        "\n",
        "    def forward(self, x):\n",
        "        return 0.5 * x * (1 + torch.tanh(\n",
        "            #这一步把它变得平滑了很多\n",
        "            torch.sqrt(torch.tensor(2.0 / torch.pi)) *\n",
        "            (x + 0.044715 * torch.pow(x, 3))\n",
        "        ))"
      ],
      "metadata": {
        "id": "ENuB4QV4DVvx"
      },
      "id": "ENuB4QV4DVvx",
      "execution_count": 31,
      "outputs": []
    },
    {
      "cell_type": "code",
      "source": [
        "import matplotlib.pyplot as plt\n",
        "\n",
        "gelu, relu = GELU(), nn.ReLU()#先把函数给个小名\n",
        "\n",
        "# Some sample data\n",
        "x = torch.linspace(-3, 3, 100) #初定义一个张量\n",
        "y_gelu, y_relu = gelu(x), relu(x) #两种激活函数\n",
        "\n",
        "plt.figure(figsize=(8, 3))\n",
        "for i, (y, label) in enumerate(zip([y_gelu, y_relu], [\"GELU\", \"ReLU\"]), 1):\n",
        "    plt.subplot(1, 2, i)\n",
        "    plt.plot(x, y)\n",
        "    plt.title(f\"{label} activation function\")\n",
        "    plt.xlabel(\"x\")\n",
        "    plt.ylabel(f\"{label}(x)\")\n",
        "    plt.grid(True)\n",
        "\n",
        "plt.tight_layout()\n",
        "plt.show()\n",
        "#一个经典的作图"
      ],
      "metadata": {
        "id": "zzr5oqRWDWXm",
        "outputId": "dffa2ad3-b39f-4b16-b9e3-2d4158d53b05",
        "colab": {
          "base_uri": "https://localhost:8080/",
          "height": 262
        }
      },
      "id": "zzr5oqRWDWXm",
      "execution_count": 32,
      "outputs": [
        {
          "output_type": "display_data",
          "data": {
            "text/plain": [
              "<Figure size 800x300 with 2 Axes>"
            ],
            "image/png": "[encoded data removed]"
          },
          "metadata": {}
        }
      ]
    },
    {
      "cell_type": "markdown",
      "source": [
        "## PositionWiseFFN 基于位置的前馈神经网络\n",
        "在原始 Transformer 论文、GPT-1、GPT-2 以及后续绝大多数基于 Transformer 的模型（包括 GPT-3, LLaMA 等）中，前馈网络（Feed-Forward Network, FFN）部分都采用了将输入维度扩大4倍，然后再还原回原始维度的结构。\n",
        "> emb_dim -> 4 * emb_dim -> emb_dim\n",
        "\n",
        "这已经成为了 Transformer 架构中的一个标准设计模式。\n",
        "\n",
        "通过将输入 emb_dim 投影到一个更高维的空间（4 * emb_dim），模型在这个“更宽”的空间里有更多的能力去学习和拟合复杂的函数和模式。激活函数（如 GELU）在这个高维空间中进行操作，可以组合出比在原始低维空间中更丰富的特征。最后，第二个线性层再将这些丰富的信息“压缩”并投影回原始的 emb_dim，以便于后续的残差连接。\n",
        "\n",
        "这个过程可以被直观地理解为一个**“记忆”或“特征提取器”**：\n",
        "\n",
        "- 1.第一个线性层将注意力层的输出投影到一个巨大的“特征库”中。\n",
        "\n",
        "- 2.GELU 激活函数根据输入，“点亮”或“激活”了库中相关的特征。\n",
        "\n",
        "- 3.第二个线性层根据被激活的特征，重新组合成一个有意义的输出。"
      ],
      "metadata": {
        "id": "LXTZAxQuq5Ol"
      },
      "id": "LXTZAxQuq5Ol"
    },
    {
      "cell_type": "code",
      "source": [
        "class FeedForward(nn.Module):\n",
        "    def __init__(self, emb_dim):\n",
        "        super().__init__()\n",
        "        self.layers = nn.Sequential(\n",
        "            nn.Linear(emb_dim, 4 * emb_dim),\n",
        "            GELU(),\n",
        "            nn.Linear(4 * emb_dim, emb_dim),\n",
        "        )\n",
        "    #运行一次就线性两次激活一次\n",
        "    def forward(self, x):\n",
        "        return self.layers(x)"
      ],
      "metadata": {
        "id": "heb1pH7JHXVg"
      },
      "id": "heb1pH7JHXVg",
      "execution_count": null,
      "outputs": []
    }
  ],
  "metadata": {
    "kernelspec": {
      "display_name": "Python 3 (ipykernel)",
      "language": "python",
      "name": "python3"
    },
    "language_info": {
      "codemirror_mode": {
        "name": "ipython",
        "version": 3
      },
      "file_extension": ".py",
      "mimetype": "text/x-python",
      "name": "python",
      "nbconvert_exporter": "python",
      "pygments_lexer": "ipython3",
      "version": "3.12.6"
    },
    "colab": {
      "provenance": [],
      "include_colab_link": true
    }
  },
  "nbformat": 4,
  "nbformat_minor": 5
}