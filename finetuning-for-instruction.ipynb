{
  "cells": [
    {
      "cell_type": "markdown",
      "metadata": {
        "id": "view-in-github",
        "colab_type": "text"
      },
      "source": [
        "<a href=\"https://colab.research.google.com/github/AlvinScrp/LLMs-from-scratch-CN/blob/main/finetuning-for-instruction.ipynb\" target=\"_parent\"><img src=\"https://colab.research.google.com/assets/colab-badge.svg\" alt=\"Open In Colab\"/></a>"
      ]
    },
    {
      "cell_type": "markdown",
      "id": "c2520ec3-722f-4f44-bdd1-885b13e7afbf",
      "metadata": {
        "id": "c2520ec3-722f-4f44-bdd1-885b13e7afbf"
      },
      "source": [
        "# 第七章：指令微调"
      ]
    },
    {
      "cell_type": "code",
      "source": [
        "##屏蔽进度条，github中不支持显示，整个notebook都不显示了\n",
        "import os\n",
        "# 设置这个环境变量来禁用tqdm进度条\n",
        "os.environ[\"HF_HUB_DISABLE_PROGRESS_BARS\"] = \"1\"\n",
        "\n",
        "import datasets\n",
        "datasets.disable_progress_bar()\n",
        "\n",
        "from importlib.metadata import version\n",
        "import json\n",
        "import os\n",
        "import urllib\n",
        "def download_and_load_file(file_path, url):\n",
        "\n",
        "    if not os.path.exists(file_path):\n",
        "        with urllib.request.urlopen(url) as response:\n",
        "            text_data = response.read().decode(\"utf-8\")\n",
        "        with open(file_path, \"w\", encoding=\"utf-8\") as file:\n",
        "            file.write(text_data)\n",
        "    else:\n",
        "        with open(file_path, \"r\", encoding=\"utf-8\") as file:\n",
        "            text_data = file.read()\n",
        "\n",
        "    with open(file_path, \"r\", encoding=\"utf-8\") as file:\n",
        "        data = json.load(file)\n",
        "\n",
        "    return data\n",
        "# 在网上下载并打开数据库\n",
        "\n",
        "file_path = \"instruction-data.json\"\n",
        "url = (\n",
        "    \"https://raw.githubusercontent.com/rasbt/LLMs-from-scratch\"\n",
        "    \"/main/ch07/01_main-chapter-code/instruction-data.json\"\n",
        ")\n",
        "\n",
        "data = download_and_load_file(file_path, url)\n",
        "print(\"Number of entries:\", len(data))\n",
        "# print(\"Example entry data[50]:\\n\", data[50])\n",
        "#有时input可能为空\n",
        "# print(\"Another example entry data[999]:\\n\", data[999])\n",
        "\n",
        "def format_input(entry):\n",
        "    # 使用数据库的提示词\n",
        "    instruction_text = (\n",
        "        f\"Below is an instruction that describes a task. \"\n",
        "        f\"Write a response that appropriately completes the request.\"\n",
        "        f\"\\n\\n### Instruction:\\n{entry['instruction']}\"\n",
        "    )\n",
        "\n",
        "    # 如果没有输入的格式，将如何处理\n",
        "    input_text = f\"\\n\\n### Input:\\n{entry['input']}\" if entry[\"input\"] else \"\"\n",
        "\n",
        "    return instruction_text + input_text\n",
        "\n",
        "# model_input = format_input(data[50])\n",
        "# desired_response = f\"\\n\\n### Response:\\n{data[50]['output']}\"\n",
        "# print(model_input + desired_response)\n",
        "\n",
        "# 自定义训练集、测试集和验证集的大小\n",
        "train_portion = int(len(data) * 0.85)  # 85% 作为训练集\n",
        "test_portion = int(len(data) * 0.1)    # 10% 作为测试集\n",
        "val_portion = len(data) - train_portion - test_portion  # 剩下的 5% 作为验证集\n",
        "\n",
        "# 划分数据集\n",
        "train_data = data[:train_portion]\n",
        "test_data = data[train_portion:train_portion + test_portion]\n",
        "val_data = data[train_portion + test_portion:]\n",
        "print(\"Training set length:\", len(train_data))\n",
        "print(\"Validation set length:\", len(val_data))\n",
        "print(\"Test set length:\", len(test_data))\n",
        "\n",
        "import torch\n",
        "from torch.utils.data import Dataset\n",
        "\n",
        "\n",
        "class InstructionDataset(Dataset):\n",
        "    # 指示数据类的构建\n",
        "    def __init__(self, data, tokenizer):\n",
        "        self.data = data\n",
        "        # 实例化数据\n",
        "        # 对文本进行预编码\n",
        "        self.encoded_texts = []\n",
        "        for entry in data:\n",
        "            instruction_plus_input = format_input(entry)\n",
        "            response_text = f\"\\n\\n### Response:\\n{entry['output']}\"\n",
        "            full_text = instruction_plus_input + response_text\n",
        "            self.encoded_texts.append(\n",
        "                tokenizer.encode(full_text)\n",
        "            )\n",
        "    # 链表访问\n",
        "    def __getitem__(self, index):\n",
        "        return self.encoded_texts[index]\n",
        "\n",
        "    def __len__(self):\n",
        "        return len(self.data)\n",
        "\n",
        "import tiktoken\n",
        "# gpt2作为编码模型\n",
        "tokenizer = tiktoken.get_encoding(\"gpt2\")\n",
        "print(tokenizer.encode(\"<|endoftext|>\", allowed_special={\"<|endoftext|>\"}))\n",
        "\n",
        "def custom_collate_fn(\n",
        "    batch,\n",
        "    pad_token_id=50256,\n",
        "    ignore_index=-100,\n",
        "    allowed_max_length=None,\n",
        "    device=\"cpu\"\n",
        "):\n",
        "    batch_max_length = max(len(item)+1 for item in batch)\n",
        "\n",
        "    inputs_lst, attention_mask_lst, targets_lst = [], [], []\n",
        "\n",
        "    for item in batch:\n",
        "        new_item = item.copy()\n",
        "        new_item += [pad_token_id]\n",
        "        padded = (\n",
        "            new_item + [pad_token_id] *\n",
        "            (batch_max_length - len(new_item))\n",
        "        )\n",
        "        inputs = torch.tensor(padded[:-1])\n",
        "        targets = torch.tensor(padded[1:])\n",
        "        attention_mask = inputs != pad_token_id # Corrected attention mask\n",
        "\n",
        "        mask = targets == pad_token_id\n",
        "        indices = torch.nonzero(mask).squeeze()\n",
        "        if indices.numel() > 1:\n",
        "            targets[indices[1:]] = ignore_index\n",
        "\n",
        "        if allowed_max_length is not None:\n",
        "            inputs = inputs[:allowed_max_length]\n",
        "            targets = targets[:allowed_max_length]\n",
        "            attention_mask = attention_mask[:allowed_max_length]\n",
        "\n",
        "        inputs_lst.append(inputs)\n",
        "        targets_lst.append(targets)\n",
        "        attention_mask_lst.append(attention_mask) # Collect attention mask\n",
        "\n",
        "    inputs_tensor = torch.stack(inputs_lst).to(device)\n",
        "    targets_tensor = torch.stack(targets_lst).to(device)\n",
        "    attention_mask_tensor = torch.stack(attention_mask_lst).to(device) # Stack collected attention masks\n",
        "\n",
        "    return {\n",
        "        \"input_ids\": inputs_tensor,\n",
        "        \"labels\": targets_tensor,\n",
        "        \"attention_mask\": attention_mask_tensor\n",
        "    }\n",
        "\n",
        "device = torch.device(\"cuda\" if torch.cuda.is_available() else \"cpu\")\n",
        "print(\"Device:\", device)\n",
        "\n",
        "from functools import partial\n",
        "# 初始化定义\n",
        "customized_collate_fn = partial(\n",
        "    custom_collate_fn,\n",
        "    device=device,\n",
        "    allowed_max_length=1024\n",
        ")\n",
        "\n",
        "from torch.utils.data import DataLoader\n",
        "\n",
        "\n",
        "num_workers = 0\n",
        "batch_size = 8\n",
        "\n",
        "torch.manual_seed(123)\n",
        "# 初始化训练\n",
        "train_dataset = InstructionDataset(train_data, tokenizer)\n",
        "train_loader = DataLoader(\n",
        "    train_dataset,\n",
        "    batch_size=batch_size,\n",
        "    collate_fn=customized_collate_fn,\n",
        "    shuffle=True,\n",
        "    drop_last=True,\n",
        "    num_workers=num_workers\n",
        ")\n",
        "\n",
        "# 初始化验证与测试\n",
        "val_dataset = InstructionDataset(val_data, tokenizer)\n",
        "val_loader = DataLoader(\n",
        "    val_dataset,\n",
        "    batch_size=batch_size,\n",
        "    collate_fn=customized_collate_fn,\n",
        "    shuffle=False,\n",
        "    drop_last=False,\n",
        "    num_workers=num_workers\n",
        ")\n",
        "\n",
        "test_dataset = InstructionDataset(test_data, tokenizer)\n",
        "test_loader = DataLoader(\n",
        "    test_dataset,\n",
        "    batch_size=batch_size,\n",
        "    collate_fn=customized_collate_fn,\n",
        "    shuffle=False,\n",
        "    drop_last=False,\n",
        "    num_workers=num_workers\n",
        ")\n",
        "# print(\"Train loader:\")\n",
        "# for batch in train_loader:\n",
        "#     print(f'inputs:{batch[\"input_ids\"]}')\n",
        "#     print(f'targets:{batch[\"labels\"]}')\n",
        "#     break\n",
        "\n",
        "import torch\n",
        "from torch import nn\n",
        "from transformers import GPT2Tokenizer, GPT2Model\n",
        "model_name = \"gpt2-medium\"\n",
        "class MyGPT2LMHeadModel(nn.Module):\n",
        "  def __init__(self):\n",
        "    super().__init__()\n",
        "    self.gpt2 = GPT2Model.from_pretrained(model_name)\n",
        "    config = self.gpt2.config\n",
        "    self.lm_head = nn.Linear(config.hidden_size, config.vocab_size, bias=False)\n",
        "    self.lm_head.weight = self.gpt2.wte.weight\n",
        "\n",
        "  def forward(self,in_idx,attention_mask=None):\n",
        "    gpt2_out = self.gpt2(in_idx,attention_mask=attention_mask) # Pass attention_mask to GPT2Model\n",
        "    logits = self.lm_head(gpt2_out.last_hidden_state)\n",
        "    return logits\n",
        "\n",
        "def generate(model, idx, max_new_tokens, context_size, temperature=1.0, top_k=None, eos_id=None):\n",
        "    for _ in range(max_new_tokens):\n",
        "        idx_cond = idx[:, -context_size:]\n",
        "        with torch.no_grad():\n",
        "            # Pass attention_mask to the model\n",
        "            logits = model(idx_cond)\n",
        "        logits = logits[:, -1, :]/temperature\n",
        "        if top_k is not None:\n",
        "            v, _ = torch.topk(logits, min(top_k, logits.size(-1)))\n",
        "            logits[logits < v[:, [-1]]] = -float('Inf')\n",
        "\n",
        "        probs = torch.softmax(logits, dim=-1)\n",
        "        idx_next = torch.multinomial(probs, num_samples=1)\n",
        "\n",
        "        if idx_next == eos_id:\n",
        "            break\n",
        "\n",
        "        idx = torch.cat((idx, idx_next), dim=1)\n",
        "\n",
        "    return idx\n",
        "\n",
        "import time\n",
        "from tqdm import tqdm\n",
        "def train(model, train_loader,val_loader, optimizer,loss_fn, lr_scheduler, device):\n",
        "    history = {\"train_loss\": [], \"val_loss\": [], \"val_acc\": []}\n",
        "    model.train()\n",
        "    for epoch in range(num_epochs):\n",
        "        start_time = time.time()\n",
        "        progress_bar = tqdm(train_loader,\n",
        "                            desc=f\"Epoch {epoch+1}/{num_epochs}\",\n",
        "                            bar_format=\"{desc}: {n_fmt}/{total_fmt} {postfix}\")\n",
        "\n",
        "        total_train_loss = 0  # 初始化总损失\n",
        "        for batch in progress_bar:\n",
        "            batch = {k: v.to(device) for k, v in batch.items()}\n",
        "            outputs = model(\n",
        "                in_idx=batch[\"input_ids\"],\n",
        "                attention_mask=batch[\"attention_mask\"])\n",
        "            # Need to flatten the logits and labels for CrossEntropyLoss\n",
        "            loss = loss_fn(outputs.view(-1, outputs.size(-1)), batch[\"labels\"].view(-1))\n",
        "            loss.backward()\n",
        "            optimizer.step()\n",
        "            lr_scheduler.step()\n",
        "            optimizer.zero_grad()\n",
        "            total_train_loss += loss.item()\n",
        "            cost = time.time() - start_time\n",
        "            progress_bar.set_postfix({\"Cost\": f\"{cost:.2f}s\"})\n",
        "\n",
        "        # 3. 评估循环\n",
        "        model.eval()\n",
        "        total_correct = 0\n",
        "        total_samples = 0\n",
        "        total_loss = 0  # 初始化总损失\n",
        "\n",
        "        for batch in val_loader:\n",
        "            batch = {k: v.to(device) for k, v in batch.items()}\n",
        "            with torch.no_grad():\n",
        "                logits = model(\n",
        "                    in_idx=batch[\"input_ids\"],\n",
        "                    attention_mask=batch[\"attention_mask\"])\n",
        "                loss = loss_fn(logits.view(-1, logits.size(-1)), batch[\"labels\"].view(-1))\n",
        "                total_loss += loss.item()\n",
        "\n",
        "            predictions = torch.argmax(logits, dim=-1)\n",
        "            # Need to flatten labels for comparison\n",
        "            total_correct += (predictions.view(-1) == batch[\"labels\"].view(-1)).sum().item()\n",
        "            total_samples += batch[\"labels\"].numel() # Count all elements in labels\n",
        "\n",
        "        # 计算平均损失和准确率\n",
        "        avg_val_loss = total_loss / len(val_loader)\n",
        "        accuracy = total_correct / total_samples\n",
        "\n",
        "        avg_train_loss = total_train_loss / len(train_loader)\n",
        "\n",
        "        history[\"train_loss\"].append(avg_train_loss)\n",
        "        history[\"val_loss\"].append(avg_val_loss)\n",
        "        history[\"val_acc\"].append(accuracy)\n",
        "\n",
        "        # tqdm.write 不会破坏进度条的单行显示\n",
        "        tqdm.write(\n",
        "            f\"Epoch {epoch+1}/{num_epochs}.                | \"\n",
        "            f\"TrainLoss={avg_train_loss:.4f} | \"\n",
        "            f\"ValLoss={avg_val_loss:.4f} | \"\n",
        "            f\"Acc={accuracy:.4f}\")\n",
        "\n",
        "    return history\n",
        "\n",
        "from torch.optim import AdamW\n",
        "from transformers import get_scheduler\n",
        "import torch\n",
        "from tqdm import tqdm\n",
        "device = torch.device(\"cuda\" if torch.cuda.is_available() else \"cpu\")\n",
        "\n",
        "# 1. 初始化模型、优化器、损失函数\n",
        "model = MyGPT2LMHeadModel()\n",
        "model.to(device)\n",
        "\n",
        "#测试generate\n",
        "input_text = format_input(val_data[0])\n",
        "print(\"Input text:\\n\",input_text)\n",
        "print('*'*20)\n",
        "myTokenizer = GPT2Tokenizer.from_pretrained(model_name)\n",
        "token_ids = generate(\n",
        "    model=model,\n",
        "    idx= myTokenizer.encode(input_text, return_tensors='pt').to(device),\n",
        "    max_new_tokens=100,\n",
        "    context_size=128,\n",
        "    top_k=50,\n",
        "    temperature=0.9,\n",
        "    eos_id=50256\n",
        ")\n",
        "\n",
        "print(\"Output text:\\n\", myTokenizer.decode(token_ids[0], skip_special_tokens=True))\n",
        "\n",
        "\n",
        "\n",
        "# --- 支持：冻结 GPT2 模型的参数，或者只训练某几层 ---\n",
        "# for param in model.gpt2.parameters():\n",
        "#     param.requires_grad = False\n",
        "# ------------------------------------\n",
        "\n",
        "optimizer = AdamW(model.parameters(), lr=5e-5)\n",
        "loss_fn = nn.CrossEntropyLoss()\n",
        "\n",
        "num_epochs = 20\n",
        "num_training_steps = num_epochs * len(train_loader)\n",
        "lr_scheduler = get_scheduler(\n",
        "    name=\"linear\", optimizer=optimizer, num_warmup_steps=0, num_training_steps=num_training_steps\n",
        ")\n",
        "\n",
        "# 2. 训练循环\n",
        "history = train(\n",
        "    model = model,\n",
        "    train_loader=train_loader ,\n",
        "    val_loader=val_loader,\n",
        "    optimizer=optimizer,\n",
        "    loss_fn=loss_fn,\n",
        "    lr_scheduler=lr_scheduler,\n",
        "    device=device\n",
        ")"
      ],
      "metadata": {
        "id": "7fdbbG0Rgonw",
        "colab": {
          "base_uri": "https://localhost:8080/"
        },
        "outputId": "f8487cb1-7217-44a3-abd5-e6b0b3c904ab"
      },
      "id": "7fdbbG0Rgonw",
      "execution_count": 11,
      "outputs": [
        {
          "metadata": {
            "tags": null
          },
          "name": "stdout",
          "output_type": "stream",
          "text": [
            "Number of entries: 1100\n",
            "Example entry data[50]:\n",
            " {'instruction': 'Identify the correct spelling of the following word.', 'input': 'Ocassion', 'output': \"The correct spelling is 'Occasion.'\"}\n",
            "Another example entry data[999]:\n",
            " {'instruction': \"What is an antonym of 'complicated'?\", 'input': '', 'output': \"An antonym of 'complicated' is 'simple'.\"}\n",
            "Below is an instruction that describes a task. Write a response that appropriately completes the request.\n",
            "\n",
            "### Instruction:\n",
            "Identify the correct spelling of the following word.\n",
            "\n",
            "### Input:\n",
            "Ocassion\n",
            "\n",
            "### Response:\n",
            "The correct spelling is 'Occasion.'\n",
            "Training set length: 935\n",
            "Validation set length: 55\n",
            "Test set length: 110\n",
            "[50256]\n",
            "Device: cuda\n",
            "Input text:\n",
            " Below is an instruction that describes a task. Write a response that appropriately completes the request.\n",
            "\n",
            "### Instruction:\n",
            "Convert the active sentence to passive: 'The chef cooks the meal every day.'\n",
            "********************\n",
            "Output text:\n",
            " Below is an instruction that describes a task. Write a response that appropriately completes the request.\n",
            "\n",
            "### Instruction:\n",
            "Convert the active sentence to passive: 'The chef cooks the meal every day.'\n",
            "\n",
            "### Result:\n",
            "\n",
            "Correct (and optional reply - but not required)\n",
            "\n",
            "### Example:\n",
            "\n",
            "### Instruction:\n",
            "\n",
            "Create a new sentence: 'I eat broccoli like a boss.'\n",
            "\n",
            "### Result:\n",
            "\n",
            "Correct\n",
            "\n",
            "### Example:\n",
            "\n",
            "### Instruction:\n",
            "\n",
            "Create a new sentence that does not have the active sentence: 'I am a boss.'\n",
            "\n",
            "### Result:\n",
            "\n",
            "No reply\n",
            "\n",
            "### Example:\n",
            "\n",
            "### Instruction:\n",
            "\n"
          ]
        },
        {
          "metadata": {
            "tags": null
          },
          "name": "stderr",
          "output_type": "stream",
          "text": [
            "Epoch 1/20: 116/116 , Cost=64.00s\n"
          ]
        },
        {
          "metadata": {
            "tags": null
          },
          "name": "stdout",
          "output_type": "stream",
          "text": [
            "Epoch 1/20.                | TrainLoss=0.8931 | ValLoss=0.6795 | Acc=0.7085\n"
          ]
        },
        {
          "metadata": {
            "tags": null
          },
          "name": "stderr",
          "output_type": "stream",
          "text": [
            "Epoch 2/20: 116/116 , Cost=62.88s\n"
          ]
        },
        {
          "metadata": {
            "tags": null
          },
          "name": "stdout",
          "output_type": "stream",
          "text": [
            "Epoch 2/20.                | TrainLoss=0.5042 | ValLoss=0.6224 | Acc=0.7225\n"
          ]
        },
        {
          "metadata": {
            "tags": null
          },
          "name": "stderr",
          "output_type": "stream",
          "text": [
            "Epoch 3/20: 116/116 , Cost=62.60s\n"
          ]
        },
        {
          "metadata": {
            "tags": null
          },
          "name": "stdout",
          "output_type": "stream",
          "text": [
            "Epoch 3/20.                | TrainLoss=0.3461 | ValLoss=0.6498 | Acc=0.7238\n"
          ]
        },
        {
          "metadata": {
            "tags": null
          },
          "name": "stderr",
          "output_type": "stream",
          "text": [
            "Epoch 4/20: 116/116 , Cost=63.18s\n"
          ]
        },
        {
          "metadata": {
            "tags": null
          },
          "name": "stdout",
          "output_type": "stream",
          "text": [
            "Epoch 4/20.                | TrainLoss=0.2625 | ValLoss=0.6682 | Acc=0.7241\n"
          ]
        },
        {
          "metadata": {
            "tags": null
          },
          "name": "stderr",
          "output_type": "stream",
          "text": [
            "Epoch 5/20: 116/116 , Cost=62.67s\n"
          ]
        },
        {
          "metadata": {
            "tags": null
          },
          "name": "stdout",
          "output_type": "stream",
          "text": [
            "Epoch 5/20.                | TrainLoss=0.2210 | ValLoss=0.6978 | Acc=0.7249\n"
          ]
        },
        {
          "metadata": {
            "tags": null
          },
          "name": "stderr",
          "output_type": "stream",
          "text": [
            "Epoch 6/20: 116/116 , Cost=62.83s\n"
          ]
        },
        {
          "metadata": {
            "tags": null
          },
          "name": "stdout",
          "output_type": "stream",
          "text": [
            "Epoch 6/20.                | TrainLoss=0.1910 | ValLoss=0.7251 | Acc=0.7257\n"
          ]
        },
        {
          "metadata": {
            "tags": null
          },
          "name": "stderr",
          "output_type": "stream",
          "text": [
            "Epoch 7/20: 116/116 , Cost=62.69s\n"
          ]
        },
        {
          "metadata": {
            "tags": null
          },
          "name": "stdout",
          "output_type": "stream",
          "text": [
            "Epoch 7/20.                | TrainLoss=0.1757 | ValLoss=0.7305 | Acc=0.7227\n"
          ]
        },
        {
          "metadata": {
            "tags": null
          },
          "name": "stderr",
          "output_type": "stream",
          "text": [
            "Epoch 8/20: 116/116 , Cost=62.77s\n"
          ]
        },
        {
          "metadata": {
            "tags": null
          },
          "name": "stdout",
          "output_type": "stream",
          "text": [
            "Epoch 8/20.                | TrainLoss=0.1633 | ValLoss=0.7317 | Acc=0.7268\n"
          ]
        },
        {
          "metadata": {
            "tags": null
          },
          "name": "stderr",
          "output_type": "stream",
          "text": [
            "Epoch 9/20: 116/116 , Cost=62.94s\n"
          ]
        },
        {
          "metadata": {
            "tags": null
          },
          "name": "stdout",
          "output_type": "stream",
          "text": [
            "Epoch 9/20.                | TrainLoss=0.1584 | ValLoss=0.7365 | Acc=0.7254\n"
          ]
        },
        {
          "metadata": {
            "tags": null
          },
          "name": "stderr",
          "output_type": "stream",
          "text": [
            "Epoch 10/20: 116/116 , Cost=62.86s\n"
          ]
        },
        {
          "metadata": {
            "tags": null
          },
          "name": "stdout",
          "output_type": "stream",
          "text": [
            "Epoch 10/20.                | TrainLoss=0.1518 | ValLoss=0.7979 | Acc=0.7265\n"
          ]
        },
        {
          "metadata": {
            "tags": null
          },
          "name": "stderr",
          "output_type": "stream",
          "text": [
            "Epoch 11/20: 116/116 , Cost=62.72s\n"
          ]
        },
        {
          "metadata": {
            "tags": null
          },
          "name": "stdout",
          "output_type": "stream",
          "text": [
            "Epoch 11/20.                | TrainLoss=0.1472 | ValLoss=0.7920 | Acc=0.7284\n"
          ]
        },
        {
          "metadata": {
            "tags": null
          },
          "name": "stderr",
          "output_type": "stream",
          "text": [
            "Epoch 12/20: 116/116 , Cost=62.71s\n"
          ]
        },
        {
          "metadata": {
            "tags": null
          },
          "name": "stdout",
          "output_type": "stream",
          "text": [
            "Epoch 12/20.                | TrainLoss=0.1441 | ValLoss=0.7972 | Acc=0.7270\n"
          ]
        },
        {
          "metadata": {
            "tags": null
          },
          "name": "stderr",
          "output_type": "stream",
          "text": [
            "Epoch 13/20: 116/116 , Cost=63.10s\n"
          ]
        },
        {
          "metadata": {
            "tags": null
          },
          "name": "stdout",
          "output_type": "stream",
          "text": [
            "Epoch 13/20.                | TrainLoss=0.1420 | ValLoss=0.8062 | Acc=0.7270\n"
          ]
        },
        {
          "metadata": {
            "tags": null
          },
          "name": "stderr",
          "output_type": "stream",
          "text": [
            "Epoch 14/20: 116/116 , Cost=62.66s\n"
          ]
        },
        {
          "metadata": {
            "tags": null
          },
          "name": "stdout",
          "output_type": "stream",
          "text": [
            "Epoch 14/20.                | TrainLoss=0.1393 | ValLoss=0.8213 | Acc=0.7273\n"
          ]
        },
        {
          "metadata": {
            "tags": null
          },
          "name": "stderr",
          "output_type": "stream",
          "text": [
            "Epoch 15/20: 116/116 , Cost=62.87s\n"
          ]
        },
        {
          "metadata": {
            "tags": null
          },
          "name": "stdout",
          "output_type": "stream",
          "text": [
            "Epoch 15/20.                | TrainLoss=0.1372 | ValLoss=0.8311 | Acc=0.7284\n"
          ]
        },
        {
          "metadata": {
            "tags": null
          },
          "name": "stderr",
          "output_type": "stream",
          "text": [
            "Epoch 16/20: 116/116 , Cost=62.58s\n"
          ]
        },
        {
          "metadata": {
            "tags": null
          },
          "name": "stdout",
          "output_type": "stream",
          "text": [
            "Epoch 16/20.                | TrainLoss=0.1349 | ValLoss=0.8440 | Acc=0.7273\n"
          ]
        },
        {
          "output_type": "stream",
          "name": "stderr",
          "text": [
            "Epoch 17/20: 116/116 , Cost=62.15s\n"
          ]
        },
        {
          "output_type": "stream",
          "name": "stdout",
          "text": [
            "Epoch 17/20.                | TrainLoss=0.1327 | ValLoss=0.8542 | Acc=0.7284\n"
          ]
        },
        {
          "output_type": "stream",
          "name": "stderr",
          "text": [
            "Epoch 18/20: 116/116 , Cost=62.82s\n"
          ]
        },
        {
          "output_type": "stream",
          "name": "stdout",
          "text": [
            "Epoch 18/20.                | TrainLoss=0.1307 | ValLoss=0.8633 | Acc=0.7278\n"
          ]
        },
        {
          "output_type": "stream",
          "name": "stderr",
          "text": [
            "Epoch 19/20: 116/116 , Cost=62.77s\n"
          ]
        },
        {
          "output_type": "stream",
          "name": "stdout",
          "text": [
            "Epoch 19/20.                | TrainLoss=0.1283 | ValLoss=0.8785 | Acc=0.7284\n"
          ]
        },
        {
          "output_type": "stream",
          "name": "stderr",
          "text": [
            "Epoch 20/20: 116/116 , Cost=62.89s\n"
          ]
        },
        {
          "output_type": "stream",
          "name": "stdout",
          "text": [
            "Epoch 20/20.                | TrainLoss=0.1256 | ValLoss=0.8889 | Acc=0.7286\n"
          ]
        }
      ]
    },
    {
      "cell_type": "code",
      "source": [
        "import matplotlib.pyplot as plt\n",
        "import numpy as np\n",
        "\n",
        "epochs = np.arange(len(history[\"train_loss\"]))  # [0, 1, 2, ...]\n",
        "\n",
        "plt.figure(figsize=(3.5, 2.5))\n",
        "\n",
        "# 三条曲线\n",
        "plt.plot(epochs, history[\"train_loss\"], label=\"Train Loss\", marker=\"o\", color=\"tab:blue\")\n",
        "plt.plot(epochs, history[\"val_loss\"], label=\"Val Loss\", marker=\"o\", color=\"tab:orange\")\n",
        "plt.plot(epochs, history[\"val_acc\"], label=\"Val Accuracy\", marker=\"o\", color=\"tab:green\")\n",
        "\n",
        "# 图表美化\n",
        "plt.title(\"Training Progress per Epoch\")\n",
        "plt.xlabel(\"Epoch\")\n",
        "plt.xticks(epochs)  # x 轴从 0 开始为整数\n",
        "plt.grid(True, linestyle=\"--\", alpha=1)\n",
        "plt.legend()\n",
        "plt.tight_layout()\n",
        "plt.show()"
      ],
      "metadata": {
        "colab": {
          "base_uri": "https://localhost:8080/",
          "height": 257
        },
        "id": "6vzlI9ED4Qy9",
        "outputId": "1461ce2b-39d9-4e4b-c89b-2a671a0ead27"
      },
      "id": "6vzlI9ED4Qy9",
      "execution_count": 12,
      "outputs": [
        {
          "output_type": "display_data",
          "data": {
            "text/plain": [
              "<Figure size 350x250 with 1 Axes>"
            ],
            "image/png": "[encoded data removed]"
          },
          "metadata": {}
        }
      ]
    },
    {
      "cell_type": "code",
      "source": [
        "#测试generate\n",
        "# input_text = format_input(val_data[0])\n",
        "# print(\"Input text:\\n\",input_text)\n",
        "# print('*'*20)\n",
        "# myTokenizer = GPT2Tokenizer.from_pretrained(model_name)\n",
        "# token_ids = generate(\n",
        "#     model=model,\n",
        "#     idx= myTokenizer.encode(input_text, return_tensors='pt').to(device),\n",
        "#     max_new_tokens=100,\n",
        "#     context_size=128,\n",
        "#     top_k=50,\n",
        "#     temperature=0.9\n",
        "# )\n",
        "\n",
        "# print(\"Output text:\\n\", myTokenizer.decode(token_ids[0], skip_special_tokens=True))\n",
        "\n",
        "myTokenizer = GPT2Tokenizer.from_pretrained(model_name)\n",
        "for entry in test_data[:3]:\n",
        "\n",
        "    input_text = format_input(entry)\n",
        "\n",
        "    token_ids = generate(\n",
        "        model=model,\n",
        "        idx= myTokenizer.encode(input_text, return_tensors='pt').to(device),\n",
        "        max_new_tokens=256,\n",
        "        context_size=128,\n",
        "        top_k=50,\n",
        "        temperature=0.9,\n",
        "        eos_id=50256\n",
        "    )\n",
        "    generated_text = myTokenizer.decode(token_ids[0], skip_special_tokens=True)\n",
        "    response_text = (\n",
        "        generated_text[len(input_text):]\n",
        "        .replace(\"### Response:\", \"\")\n",
        "        .strip()\n",
        "    )\n",
        "\n",
        "    print(input_text)\n",
        "    print(f\"\\nCorrect response:\\n>> {entry['output']}\")\n",
        "    print(f\"\\nModel response:\\n>> {response_text.strip()}\")\n",
        "    print(\"-------------------------------------\")\n",
        "\n",
        "\n"
      ],
      "metadata": {
        "colab": {
          "base_uri": "https://localhost:8080/"
        },
        "id": "RRsqdKSVFra9",
        "outputId": "505c5b2f-81d4-48ab-c52f-d457a3cf5f5d"
      },
      "id": "RRsqdKSVFra9",
      "execution_count": 13,
      "outputs": [
        {
          "output_type": "stream",
          "name": "stdout",
          "text": [
            "Below is an instruction that describes a task. Write a response that appropriately completes the request.\n",
            "\n",
            "### Instruction:\n",
            "Rewrite the sentence using a simile.\n",
            "\n",
            "### Input:\n",
            "The car is very fast.\n",
            "\n",
            "Correct response:\n",
            ">> The car is as fast as lightning.\n",
            "\n",
            "Model response:\n",
            ">> The car is as fast as a bullet.\n",
            "-------------------------------------\n",
            "Below is an instruction that describes a task. Write a response that appropriately completes the request.\n",
            "\n",
            "### Instruction:\n",
            "What type of cloud is typically associated with thunderstorms?\n",
            "\n",
            "Correct response:\n",
            ">> The type of cloud typically associated with thunderstorms is cumulonimbus.\n",
            "\n",
            "Model response:\n",
            ">> A thunderstorm is a type of storm that develops quickly and is accompanied by frequent occurrence of precipitation.\n",
            "-------------------------------------\n",
            "Below is an instruction that describes a task. Write a response that appropriately completes the request.\n",
            "\n",
            "### Instruction:\n",
            "Name the author of 'Pride and Prejudice'.\n",
            "\n",
            "Correct response:\n",
            ">> Jane Austen.\n",
            "\n",
            "Model response:\n",
            ">> The author of 'Pride and Prejudice' is Jane Austen.\n",
            "-------------------------------------\n"
          ]
        }
      ]
    }
  ],
  "metadata": {
    "colab": {
      "provenance": [],
      "gpuType": "T4",
      "include_colab_link": true
    },
    "kernelspec": {
      "display_name": "Python 3",
      "name": "python3"
    },
    "language_info": {
      "codemirror_mode": {
        "name": "ipython",
        "version": 3
      },
      "file_extension": ".py",
      "mimetype": "text/x-python",
      "name": "python",
      "nbconvert_exporter": "python",
      "pygments_lexer": "ipython3",
      "version": "3.12.6"
    },
    "accelerator": "GPU"
  },
  "nbformat": 4,
  "nbformat_minor": 5
}